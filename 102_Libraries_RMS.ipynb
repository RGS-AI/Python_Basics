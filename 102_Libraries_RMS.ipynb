{
 "cells": [
  {
   "cell_type": "markdown",
   "id": "569d36b1-42c9-471d-8e37-67d00b6c9285",
   "metadata": {},
   "source": [
    "# Python Libraries\n",
    "#### `1. Numpy` - Numerical Python that support for large, multi-dimensional arrays and matrices, along with a large collection of high-level mathematical functions to operate on these arrays\n",
    "#### `2. Pandas` - for data manipulation and analysis\n",
    "#### `3. Matplotlib` - is a comprehensive library for creating static, animated, and interactive visualizations \n",
    "#### `4. Seaborn` - based on matplotlib but provides a high-level interface for drawing attractive and informative statistical graphics\n",
    "#### `5. Scikit Learn` - free and open-source machine learning library"
   ]
  },
  {
   "cell_type": "markdown",
   "id": "b592eb00-235a-4b08-af32-dfa63bc701c8",
   "metadata": {},
   "source": [
    "### `1. Numpy - NumPy (Numerical Python) is a powerful library for numerical computing in Python. It provides support for large, multi-dimensional arrays and matrices, along with a collection of mathematical functions to operate on these arrays efficiently.`"
   ]
  },
  {
   "cell_type": "markdown",
   "id": "1197020a-8068-420f-abbe-ffc3df1ff182",
   "metadata": {},
   "source": [
    "#### Key features and concepts of NumPy:\n",
    "\n",
    "`1. NumPy Arrays:\n",
    "   The core of NumPy is the ndarray (n-dimensional array) object. Unlike Python lists, NumPy arrays are homogeneous (all elements must be of the same type) and can be multi-dimensional.`\n",
    "\n",
    "`2. Array Creation:\n",
    "   You can create NumPy arrays from Python lists, using functions like np.array(), np.arange(), or np.linspace().`\n",
    "\n",
    "`3. Array Attributes:\n",
    "   NumPy arrays have attributes like shape (dimensions), ndim (number of dimensions), and dtype (data type of elements).`\n",
    "\n",
    "`4. Array Operations:\n",
    "   NumPy allows element-wise operations on arrays without using explicit loops, which is much faster than traditional Python loops.`\n",
    "\n",
    "`5. Broadcasting:\n",
    "   This is a powerful mechanism that allows NumPy to work with arrays of different shapes when performing arithmetic operations.`\n",
    "\n",
    "`6. Indexing and Slicing:\n",
    "   Similar to Python lists, but extended to multiple dimensions.`\n",
    "\n",
    "`7. Reshaping:\n",
    "   You can change the shape of an array without changing its data.`\n",
    "\n",
    "`8. Mathematical and Statistical Functions:\n",
    "   NumPy provides a wide range of mathematical functions like sqrt(), exp(), as well as statistical functions like mean(), median(), std(), etc.`\n",
    "\n",
    "`9. Linear Algebra:\n",
    "   NumPy includes basic linear algebra operations, such as matrix multiplication, computing eigenvalues, solving linear equations, etc.`\n",
    "\n",
    "`10. Random Number Generation:\n",
    "    NumPy has functions for generating random numbers, which are often used in scientific computing and machine learning.`"
   ]
  },
  {
   "cell_type": "markdown",
   "id": "d42bfb4b-f2f6-4756-a77e-2ea5784e5565",
   "metadata": {},
   "source": [
    "#### Why use NumPy?\n",
    "`- Performance: NumPy operations are implemented in C, making them much faster than equivalent Python code, especially for large arrays.`\n",
    "\n",
    "`- Memory efficiency: NumPy arrays use less memory than Python lists.`\n",
    "\n",
    "`- Convenience: NumPy's broadcasting feature and vectorized operations make code more readable and concise.`"
   ]
  },
  {
   "cell_type": "code",
   "execution_count": null,
   "id": "bdc48930-8fa2-401c-b82d-4fbd070f9c79",
   "metadata": {},
   "outputs": [],
   "source": [
    "import numpy as np\n",
    "\n",
    "# 1. Creating NumPy arrays\n",
    "print(\"1. Creating NumPy arrays:\")\n",
    "# From a list\n",
    "arr1 = np.array([1, 2, 3, 4, 5])\n",
    "print(\"From list:\", arr1)"
   ]
  },
  {
   "cell_type": "code",
   "execution_count": null,
   "id": "a681f116-212f-4ceb-8be2-8790199eea53",
   "metadata": {},
   "outputs": [],
   "source": [
    "# Using np.arange\n",
    "arr2 = np.arange(0, 10, 2)  # Start, stop, step\n",
    "print(\"Using arange:\", arr2)"
   ]
  },
  {
   "cell_type": "code",
   "execution_count": null,
   "id": "1ac35044-115a-4560-aa0d-3a1a3b6105b1",
   "metadata": {},
   "outputs": [],
   "source": [
    "# Using np.linspace\n",
    "arr3 = np.linspace(0, 1, 5)  # Start, stop, num of points\n",
    "print(\"Using linspace:\", arr3)"
   ]
  },
  {
   "cell_type": "code",
   "execution_count": null,
   "id": "41ca189f-e1d9-41fd-8197-4263773d2f84",
   "metadata": {},
   "outputs": [],
   "source": [
    "# 2. Array attributes\n",
    "print(\"\\n2. Array attributes:\")\n",
    "print(\"Shape:\", arr1.shape)\n",
    "print(\"Dimension:\", arr1.ndim)\n",
    "print(\"Data type:\", arr1.dtype)"
   ]
  },
  {
   "cell_type": "code",
   "execution_count": null,
   "id": "ded532a9-e58a-46bb-ab24-4c4825a09d51",
   "metadata": {},
   "outputs": [],
   "source": [
    "# 3. Array operations\n",
    "print(\"\\n3. Array operations:\")\n",
    "arr4 = np.array([1, 2, 3])\n",
    "arr5 = np.array([4, 5, 6])\n",
    "print(\"Addition:\", arr4 + arr5)\n",
    "print(\"Multiplication:\", arr4 * arr5)\n",
    "print(\"Square root:\", np.sqrt(arr4))"
   ]
  },
  {
   "cell_type": "code",
   "execution_count": null,
   "id": "5081743f-1b82-4917-8d0d-0d4a697b88a9",
   "metadata": {},
   "outputs": [],
   "source": [
    "# 4. Broadcasting\n",
    "print(\"\\n4. Broadcasting:\")\n",
    "arr6 = np.array([[1, 2, 3], [4, 5, 6]])\n",
    "print(\"Original array:\")\n",
    "print(arr6)\n",
    "print(\"Add 10 to each element:\")\n",
    "print(arr6 + 10)"
   ]
  },
  {
   "cell_type": "code",
   "execution_count": null,
   "id": "7c5027ce-38cd-42ea-a478-985d71d824a4",
   "metadata": {},
   "outputs": [],
   "source": [
    "# 5. Indexing and slicing\n",
    "print(\"\\n5. Indexing and slicing:\")\n",
    "arr7 = np.array([[1, 2, 3], [4, 5, 6], [7, 8, 9]])\n",
    "print(\"Original array:\")\n",
    "print(arr7)\n",
    "print(\"Element at row 1, column 2:\", arr7[1, 2])\n",
    "print(\"Second row:\", arr7[1, :])\n",
    "print(\"Second column:\", arr7[:, 1])"
   ]
  },
  {
   "cell_type": "code",
   "execution_count": null,
   "id": "ccce666f-0b79-4eb4-a476-06def15f9480",
   "metadata": {},
   "outputs": [],
   "source": [
    "# 6. Reshaping arrays\n",
    "print(\"\\n6. Reshaping arrays:\")\n",
    "arr8 = np.arange(12)\n",
    "print(\"Original array:\", arr8)\n",
    "reshaped = arr8.reshape(3, 4)\n",
    "print(\"Reshaped to 3x4:\")\n",
    "print(reshaped)"
   ]
  },
  {
   "cell_type": "code",
   "execution_count": null,
   "id": "5dc8c38d-4e3a-4f80-bd20-8441e349f046",
   "metadata": {},
   "outputs": [],
   "source": [
    "# 7. Statistical operations\n",
    "print(\"\\n7. Statistical operations:\")\n",
    "arr9 = np.array([1, 2, 3, 4, 5])\n",
    "print(\"Mean:\", np.mean(arr9))\n",
    "print(\"Median:\", np.median(arr9))\n",
    "print(\"Standard deviation:\", np.std(arr9))"
   ]
  },
  {
   "cell_type": "code",
   "execution_count": null,
   "id": "89539dd0-4c65-472f-ac0d-ad0eb0685d4b",
   "metadata": {},
   "outputs": [],
   "source": [
    "# 8. Linear algebra operations\n",
    "print(\"\\n8. Linear algebra operations:\")\n",
    "A = np.array([[1, 2], [3, 4]])\n",
    "B = np.array([[5, 6], [7, 8]])\n",
    "print(\"Matrix multiplication:\")\n",
    "print(np.dot(A, B))"
   ]
  },
  {
   "cell_type": "code",
   "execution_count": null,
   "id": "e3690c16-f246-4135-a0a8-5a256840ac30",
   "metadata": {},
   "outputs": [],
   "source": [
    "# 9. Random number generation\n",
    "print(\"\\n9. Random number generation:\")\n",
    "random_arr = np.random.rand(3, 3)\n",
    "print(\"Random 3x3 array:\")\n",
    "print(random_arr)"
   ]
  },
  {
   "cell_type": "markdown",
   "id": "82395d0c-529a-495a-bfcc-e2a134fb8fb3",
   "metadata": {},
   "source": [
    "### 2. Pandas - \n",
    "\n",
    "#### Pandas is a powerful library for data manipulation and analysis in Python. It's built on top of NumPy and provides high-performance, easy-to-use data structures and tools for working with structured data. The two primary data structures in Pandas are Series and DataFrame.\n",
    "\n",
    "#### Key concepts and features of Pandas:\n",
    "\n",
    "`1. Series and DataFrame:`\n",
    "   `- Series: A one-dimensional labeled array that can hold data of any type.`\n",
    "   `- DataFrame: A two-dimensional labeled data structure with columns of potentially different types.`\n",
    "\n",
    "`2. Data Import/Export:\n",
    "   Pandas can read and write data in various formats, including CSV, Excel, SQL databases, and JSON.`\n",
    "\n",
    "`3. Data Inspection:\n",
    "   Methods like head(), tail(), info(), and describe() help you quickly understand your data.`\n",
    "\n",
    "`4. Data Selection and Indexing:\n",
    "   Pandas provides powerful ways to select and index data using labels or integer positions.`\n",
    "\n",
    "`5. Data Cleaning:\n",
    "   Functions for handling missing data, removing duplicates, and replacing values.`\n",
    "\n",
    "`6. Data Transformation:\n",
    "   Operations like grouping, aggregating, and pivoting data.`\n",
    "\n",
    "`7. Merging and Joining:\n",
    "   Combining multiple datasets using various join operations.`\n",
    "\n",
    "`8. Time Series Functionality:\n",
    "   Extensive capabilities for working with date, time, and time-indexed data.`\n",
    "\n",
    "`9. Data Visualization:\n",
    "   Integration with plotting libraries for quick data visualization.`"
   ]
  },
  {
   "cell_type": "code",
   "execution_count": null,
   "id": "fdcdab5d-274e-4843-9b9d-2e4a23df6ef4",
   "metadata": {},
   "outputs": [],
   "source": [
    "import pandas as pd\n",
    "import numpy as np\n",
    "\n",
    "# 1. Creating Pandas objects\n",
    "print(\"1. Creating Pandas objects:\")\n",
    "\n",
    "# Creating a Series\n",
    "s = pd.Series([1, 3, 5, np.nan, 6, 8])\n",
    "print(\"Series:\")\n",
    "print(s)"
   ]
  },
  {
   "cell_type": "code",
   "execution_count": null,
   "id": "9f5c79bf-3bb4-4e71-8555-6d9571013abb",
   "metadata": {},
   "outputs": [],
   "source": [
    "# Creating a DataFrame\n",
    "df = pd.DataFrame({\n",
    "    'A': [1, 2, 3, 4],\n",
    "    'B': pd.Timestamp('20230101'),\n",
    "    'C': pd.Series(1, index=list(range(4)), dtype='float32'),\n",
    "    'D': np.array([3] * 4, dtype='int32'),\n",
    "    'E': pd.Categorical([\"test\", \"train\", \"test\", \"train\"]),\n",
    "    'F': 'foo'\n",
    "})\n",
    "print(\"DataFrame:\")\n",
    "print(df)"
   ]
  },
  {
   "cell_type": "code",
   "execution_count": null,
   "id": "689b49c5-7c26-4794-8dd2-34c6ae6ead6a",
   "metadata": {},
   "outputs": [],
   "source": [
    "# 2. Viewing data\n",
    "print(\"2. Viewing data:\")\n",
    "print(\"First few rows:\")\n",
    "print(df.head())"
   ]
  },
  {
   "cell_type": "code",
   "execution_count": null,
   "id": "3ffcb322-7e91-4612-8507-1f8619b1903a",
   "metadata": {},
   "outputs": [],
   "source": [
    "print(\"DataFrame info:\")\n",
    "df.info()"
   ]
  },
  {
   "cell_type": "code",
   "execution_count": null,
   "id": "d3efcc88-067c-4d4a-adec-fbc331771559",
   "metadata": {},
   "outputs": [],
   "source": [
    "print(\"DataFrame description:\")\n",
    "print(df.describe())"
   ]
  },
  {
   "cell_type": "code",
   "execution_count": null,
   "id": "3dec2dcd-28c7-43dd-b426-8b7d2c99965d",
   "metadata": {},
   "outputs": [],
   "source": [
    "# 3. Selection\n",
    "print(\"3. Selection:\")\n",
    "print(\"Selecting column 'A':\")\n",
    "print(df['A'])"
   ]
  },
  {
   "cell_type": "code",
   "execution_count": null,
   "id": "bfe0f1c8-d684-47cc-b782-d047976a6b7e",
   "metadata": {},
   "outputs": [],
   "source": [
    "print(\"Selecting rows 0 through 2:\")\n",
    "print(df[0:3])"
   ]
  },
  {
   "cell_type": "code",
   "execution_count": null,
   "id": "3fe81708-bd80-4a31-975c-40b343b0c48d",
   "metadata": {},
   "outputs": [],
   "source": [
    "print(\"Selecting by label (loc):\")\n",
    "print(df.loc[1:2, ['A', 'B']])"
   ]
  },
  {
   "cell_type": "code",
   "execution_count": null,
   "id": "5fc42c7b-33b1-44a5-98d0-6c24587c5e0b",
   "metadata": {},
   "outputs": [],
   "source": [
    "print(\"Selecting by position (iloc):\")\n",
    "print(df.iloc[1:3, 0:2])"
   ]
  },
  {
   "cell_type": "code",
   "execution_count": null,
   "id": "2a67c6ff-5f2c-4fb9-8850-a46ee03fbdc5",
   "metadata": {},
   "outputs": [],
   "source": [
    "# 4. Data manipulation\n",
    "print(\"\\n4. Data manipulation:\")\n",
    "\n",
    "# Adding a new column\n",
    "df['G'] = df['A'] + df['D']\n",
    "print(\"Added new column 'G':\")\n",
    "print(df)"
   ]
  },
  {
   "cell_type": "code",
   "execution_count": null,
   "id": "f58cea2b-c582-4f7b-b1b6-7e1afc25ff33",
   "metadata": {},
   "outputs": [],
   "source": [
    "# Filtering data\n",
    "print(\"\\nFiltering data where A > 2:\")\n",
    "print(df[df['A'] > 2])"
   ]
  },
  {
   "cell_type": "code",
   "execution_count": null,
   "id": "4b04997a-35f8-48ab-ab5e-5c3651e9f260",
   "metadata": {},
   "outputs": [],
   "source": [
    "# Grouping and aggregating\n",
    "print(\"\\nGrouping by 'E' and calculating mean of 'A':\")\n",
    "print(df.groupby('E')['A'].mean())"
   ]
  },
  {
   "cell_type": "code",
   "execution_count": null,
   "id": "4093271f-3c79-4bf0-a11b-bd401c189987",
   "metadata": {},
   "outputs": [],
   "source": [
    "# 5. Handling missing data\n",
    "print(\"5. Handling missing data:\")\n",
    "df2 = df.copy()\n",
    "df2.loc[0, 'A'] = np.nan\n",
    "print(\"DataFrame with NaN:\")\n",
    "print(df2)"
   ]
  },
  {
   "cell_type": "code",
   "execution_count": null,
   "id": "db90652f-2b40-44e7-9003-c4dd558dcfe9",
   "metadata": {},
   "outputs": [],
   "source": [
    "print(\"Dropping rows with NaN:\")\n",
    "print(df2.dropna())"
   ]
  },
  {
   "cell_type": "code",
   "execution_count": null,
   "id": "0b8a6295-07fc-41c8-b86f-70085a58b70f",
   "metadata": {},
   "outputs": [],
   "source": [
    "#print(\"Filling NaN with 0:\")\n",
    "#print(df2.fillna(0))"
   ]
  },
  {
   "cell_type": "code",
   "execution_count": null,
   "id": "313705f6-de73-4493-9ac8-7d2f77e6eace",
   "metadata": {},
   "outputs": [],
   "source": [
    "# 6. Merging DataFrames\n",
    "print(\"6. Merging DataFrames:\")\n",
    "df3 = pd.DataFrame({'A': ['A0', 'A1', 'A2'],\n",
    "                    'B': ['B0', 'B1', 'B2']},\n",
    "                    index=['K0', 'K1', 'K2'])\n",
    "\n",
    "df4 = pd.DataFrame({'C': ['C0', 'C1', 'C2'],\n",
    "                    'D': ['D0', 'D1', 'D2']},\n",
    "                    index=['K0', 'K2', 'K3'])\n",
    "\n",
    "print(\"Merging df3 and df4:\")\n",
    "print(pd.merge(df3, df4, left_index=True, right_index=True, how='outer'))"
   ]
  },
  {
   "cell_type": "code",
   "execution_count": null,
   "id": "f631142f-b595-43e0-8fed-e4ad025a7104",
   "metadata": {},
   "outputs": [],
   "source": [
    "# 7. Time series\n",
    "print(\"7. Time series:\")\n",
    "rng = pd.date_range('1/1/2023', periods=100, freq='D')\n",
    "ts = pd.Series(np.random.randn(len(rng)), index=rng)\n",
    "print(\"Time series data:\")\n",
    "print(ts.head())"
   ]
  },
  {
   "cell_type": "code",
   "execution_count": null,
   "id": "f6b5c58a-563f-4a00-8a9a-58b132b20ac9",
   "metadata": {},
   "outputs": [],
   "source": [
    "print(\"Resampling to monthly frequency:\")\n",
    "print(ts.resample('ME').mean())"
   ]
  },
  {
   "cell_type": "code",
   "execution_count": null,
   "id": "850f32e4-c5eb-429f-ac0f-80ed20b33a61",
   "metadata": {},
   "outputs": [],
   "source": [
    "# 8. Reading and writing data\n",
    "print(\"8. Reading and writing data:\")\n",
    "# Writing to CSV\n",
    "#df.to_csv('example.csv')\n",
    "print(\"DataFrame written to 'example.csv'\")"
   ]
  },
  {
   "cell_type": "code",
   "execution_count": null,
   "id": "a4e0ecbe-990e-4026-90c6-6b2429e4ed2d",
   "metadata": {},
   "outputs": [],
   "source": [
    "# Reading from CSV\n",
    "#df_read = pd.read_csv('example.csv', index_col=0)\n",
    "print(\"DataFrame read from 'example.csv':\")\n",
    "#print(df_read.head())"
   ]
  },
  {
   "cell_type": "code",
   "execution_count": null,
   "id": "18781515-0d3e-4085-9fe2-e0dd0cadaf3e",
   "metadata": {},
   "outputs": [],
   "source": [
    "# 9. Data visualization\n",
    "print(\"9. Data visualization:\")\n",
    "print(\"To visualize data, you can use df.plot() or integrate with matplotlib.\")\n",
    "#print(\"Example: df['A'].plot(kind='bar')\")"
   ]
  },
  {
   "cell_type": "markdown",
   "id": "03c7cf5c-dfe9-4fc4-b312-6241105768ff",
   "metadata": {},
   "source": [
    "#### Why Pandas is crucial for data science:\n",
    "\n",
    "`- Efficient data handling: Pandas is optimized for performance with large datasets.`\n",
    "\n",
    "`- Data preprocessing: It provides tools essential for cleaning and preparing data for analysis.`\n",
    "\n",
    "`- Flexibility: It can handle various data types and formats commonly used in data science.`\n",
    "\n",
    "`- Integration: Pandas works well with other data science libraries like NumPy, Matplotlib, and scikit-learn.`"
   ]
  },
  {
   "cell_type": "code",
   "execution_count": null,
   "id": "63e7eb16-fb65-4cf5-b84d-25d2acf5bb06",
   "metadata": {},
   "outputs": [],
   "source": []
  }
 ],
 "metadata": {
  "kernelspec": {
   "display_name": "Python 3 (ipykernel)",
   "language": "python",
   "name": "python3"
  },
  "language_info": {
   "codemirror_mode": {
    "name": "ipython",
    "version": 3
   },
   "file_extension": ".py",
   "mimetype": "text/x-python",
   "name": "python",
   "nbconvert_exporter": "python",
   "pygments_lexer": "ipython3",
   "version": "3.12.4"
  }
 },
 "nbformat": 4,
 "nbformat_minor": 5
}
