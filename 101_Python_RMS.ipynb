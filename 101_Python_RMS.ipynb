{
  "metadata": {
    "kernelspec": {
      "display_name": "Python 3 (ipykernel)",
      "language": "python",
      "name": "python3"
    },
    "language_info": {
      "codemirror_mode": {
        "name": "ipython",
        "version": 3
      },
      "file_extension": ".py",
      "mimetype": "text/x-python",
      "name": "python",
      "nbconvert_exporter": "python",
      "pygments_lexer": "ipython3",
      "version": "3.12.4"
    }
  },
  "nbformat_minor": 5,
  "nbformat": 4,
  "cells": [
    {
      "id": "f429e731-3158-4a0f-969b-0583e5393e67",
      "cell_type": "markdown",
      "source": "# Welcome to Python 101",
      "metadata": {}
    },
    {
      "id": "9578d4e4-c154-488f-89f6-4854f45cac8b",
      "cell_type": "markdown",
      "source": "### This notebook is designed for learning the basics of Python and its operations. It has been prepared and is taught by **RMS**.",
      "metadata": {}
    },
    {
      "id": "a0fd4502-7d19-4296-96fb-e6deb608d979",
      "cell_type": "markdown",
      "source": "## Variables:\n### Variables are fundamental data storage units or containers that hold values at specific memory locations. In Python, the memory location of a variable can be identified using the 'id()' function. Variables can store any type of value, ranging from the smallest possible values to 2^63 - 1 in a 64-bit system. This makes variables versatile and essential for various computational tasks, as they enable the manipulation and storage of diverse data types.",
      "metadata": {}
    },
    {
      "id": "5828f6dc-11a4-4e3c-90af-d3d4885e4ae0",
      "cell_type": "code",
      "source": "x = 3",
      "metadata": {},
      "outputs": [],
      "execution_count": null
    },
    {
      "id": "0d3abfd4-33f9-48c1-acbe-747fd20d6e27",
      "cell_type": "code",
      "source": "x = 3.4",
      "metadata": {},
      "outputs": [],
      "execution_count": null
    },
    {
      "id": "39e5f645-f673-4dbc-b498-0057837c5aa4",
      "cell_type": "code",
      "source": "x = 'I am Wolverine'",
      "metadata": {},
      "outputs": [],
      "execution_count": null
    },
    {
      "id": "146d130c-8e49-41f6-875a-50bc1394667d",
      "cell_type": "markdown",
      "source": "### Single quotes (' ') are typically used for characters or short words. Double quotes (\" \") are often used for sentences or string literals. Triple quotes (''' ''' or \"\"\" \"\"\") are used for multi-line strings, allowing for the inclusion of multiple lines of text within a single string.",
      "metadata": {}
    },
    {
      "id": "2e16d57d-3bdb-4814-aee1-bcdd47465c0e",
      "cell_type": "markdown",
      "source": "### Hash # can be used for commenting, commenting are preferred when you write a block of code. This usually allows the clients or sometimes yourself why you chose code that it present. It might also help which kind of structures or style used.",
      "metadata": {}
    },
    {
      "id": "491ffc29-9dd6-4bf1-99fb-18b1bbdb6090",
      "cell_type": "code",
      "source": "# This is how commenting would look like. And it will not get executed as a line or code does. Commenting shouldn't be long and to be used wisely.",
      "metadata": {},
      "outputs": [],
      "execution_count": null
    },
    {
      "id": "d8042904-9a04-491d-bc64-1f6e590731ac",
      "cell_type": "markdown",
      "source": "## Types of Data types:\nint, float, bool, str and complex (These are the fundamental data types of python)",
      "metadata": {}
    },
    {
      "id": "7163171f-0973-4b16-a997-9eb13dce81ed",
      "cell_type": "markdown",
      "source": "### Finding out the type of datatype!",
      "metadata": {}
    },
    {
      "id": "2ce42ff3-0c77-4bc6-87fd-efbad4bbcdec",
      "cell_type": "code",
      "source": "# One can use the type to figure out the type of data type. This will help us when we are dealing with huge number of dataset.\n\nx = 5\ntype(x)",
      "metadata": {},
      "outputs": [],
      "execution_count": null
    },
    {
      "id": "9a51b2f0-c32b-4d65-93b9-7acc265059bb",
      "cell_type": "code",
      "source": "x = 'Raghu'\ntype(x)",
      "metadata": {},
      "outputs": [],
      "execution_count": null
    },
    {
      "id": "e5285846-d999-4e69-940f-deb599148030",
      "cell_type": "markdown",
      "source": "### It is advisable to use print(type(x)) in other environment that may not produce results. Since we are using jupyter notebook, it will print result out to us directly.",
      "metadata": {}
    },
    {
      "id": "731ca90c-1225-4f42-8cad-9c90091d4bbf",
      "cell_type": "markdown",
      "source": "## Type casting",
      "metadata": {}
    },
    {
      "id": "158dbe12-f4ba-4e8d-998c-f8816e80b262",
      "cell_type": "code",
      "source": "# Type casting is used to change the data type from one form to the other. Usually, typecasting is preferred in Machine Learning since some variables can be hard to deal with.\n\nx = 2.8\nprint(int(x))",
      "metadata": {},
      "outputs": [],
      "execution_count": null
    },
    {
      "id": "f252f2ec-f301-4beb-a443-5308f1bdf969",
      "cell_type": "code",
      "source": "# Converting integer to string\n\ny = 456789\nprint(type(str(y)))",
      "metadata": {},
      "outputs": [],
      "execution_count": null
    },
    {
      "id": "9eeafe7d-a2e3-4a90-aa64-aab9d9c9c2d6",
      "cell_type": "code",
      "source": "#Let's find Memory location of variable that we create\n\nz = 'R'\nprint(id(z))",
      "metadata": {},
      "outputs": [],
      "execution_count": null
    },
    {
      "id": "8d1e6cdf-7bfa-4ca9-bf66-c7306b851f2a",
      "cell_type": "code",
      "source": "#Usually memory locations are represented in hexadecimal\nprint(hex(id(z)))",
      "metadata": {},
      "outputs": [],
      "execution_count": null
    },
    {
      "id": "a8a9f82e-6685-4de5-95b0-082e6847566e",
      "cell_type": "markdown",
      "source": "## Strip Method -\n### To remove any white space or any character on either sides",
      "metadata": {}
    },
    {
      "id": "403ccd22-77fa-4b12-a99a-1c416e25a20d",
      "cell_type": "code",
      "source": "y = \"19M\"",
      "metadata": {},
      "outputs": [],
      "execution_count": null
    },
    {
      "id": "28e5fa95-aa9f-4c26-95a1-48de56f50f02",
      "cell_type": "code",
      "source": "a = y.rstrip('M')\nint(a)",
      "metadata": {},
      "outputs": [],
      "execution_count": null
    },
    {
      "id": "87068170-4d71-4306-b448-db943192fc16",
      "cell_type": "markdown",
      "source": "### Stripping is a powerful tool that enables the removal of unwanted characters from strings. Additionally, it allows for typecasting and can be utilized in various cases. In our project on web scraping, you will observe its use and advantages in the subsequent chapters.",
      "metadata": {}
    },
    {
      "id": "3d512756-1c10-4bca-8b2b-f184928b6dc5",
      "cell_type": "code",
      "source": "x = \"$9.99\"\nb = float(x.lstrip('$'))\nb",
      "metadata": {},
      "outputs": [],
      "execution_count": null
    },
    {
      "id": "28c024d1-da67-43b8-8602-c9af984e2504",
      "cell_type": "code",
      "source": "type(b)",
      "metadata": {},
      "outputs": [],
      "execution_count": null
    },
    {
      "id": "320500d4-e6bd-463c-a242-1a27f61f4f55",
      "cell_type": "markdown",
      "source": "## Operators\n### Python has different operators to perform set of operations, say it can find sum, difference, divide, multiply and more. It also can perform floor division and even find out modulus of a number(s). ",
      "metadata": {}
    },
    {
      "id": "a6a1273d-3cd0-414a-be61-a302842ea45e",
      "cell_type": "code",
      "source": "a = 2\nb = 3",
      "metadata": {},
      "outputs": [],
      "execution_count": null
    },
    {
      "id": "3be46686-ab76-434c-b6d8-83f13b4b2388",
      "cell_type": "code",
      "source": "a + b",
      "metadata": {},
      "outputs": [],
      "execution_count": null
    },
    {
      "id": "c7c9f5f8-7169-4b8c-8d9b-5e68fa574945",
      "cell_type": "code",
      "source": "a - b",
      "metadata": {},
      "outputs": [],
      "execution_count": null
    },
    {
      "id": "2667bc31-cad5-4757-a3ce-845b048fb9c4",
      "cell_type": "code",
      "source": "a * b",
      "metadata": {},
      "outputs": [],
      "execution_count": null
    },
    {
      "id": "c68a46bb-d52b-4b8a-ae37-21244f4d2913",
      "cell_type": "code",
      "source": "b / a",
      "metadata": {},
      "outputs": [],
      "execution_count": null
    },
    {
      "id": "f8c84569-86cf-4819-a208-d03505b1ee10",
      "cell_type": "code",
      "source": "a // b",
      "metadata": {},
      "outputs": [],
      "execution_count": null
    },
    {
      "id": "e02dcdb5-d9e6-4506-ac52-71d96c37a38b",
      "cell_type": "code",
      "source": "a % b",
      "metadata": {},
      "outputs": [],
      "execution_count": null
    },
    {
      "id": "3e624384-bb79-4a5f-b3e0-c13a6b1779d5",
      "cell_type": "code",
      "source": "# ** represents power!\n\na ** b",
      "metadata": {},
      "outputs": [],
      "execution_count": null
    },
    {
      "id": "8ffe8dc3-96a9-47ae-a7e2-ff3039caeb3c",
      "cell_type": "code",
      "source": "# Comparison Operators, these are used to compare and justify whether they are true or not, hence boolean output is expected.\n\na, b = 5, 7",
      "metadata": {},
      "outputs": [],
      "execution_count": null
    },
    {
      "id": "2c3800cf-22de-4b1b-b98a-a84b61f66e88",
      "cell_type": "code",
      "source": "a == b",
      "metadata": {},
      "outputs": [],
      "execution_count": null
    },
    {
      "id": "378730a6-11da-4f2d-afb9-1ca6df8d7d69",
      "cell_type": "code",
      "source": "a > b",
      "metadata": {},
      "outputs": [],
      "execution_count": null
    },
    {
      "id": "a1dce3ea-cba5-468a-8462-ed1cf316bedf",
      "cell_type": "code",
      "source": "a < b",
      "metadata": {},
      "outputs": [],
      "execution_count": null
    },
    {
      "id": "ab2d7d4a-0b8a-47e1-8942-1a2e265a2fcd",
      "cell_type": "code",
      "source": "a != b",
      "metadata": {},
      "outputs": [],
      "execution_count": null
    },
    {
      "id": "7103f9b8-36e4-4ca7-8996-429044b7f8a9",
      "cell_type": "code",
      "source": "# Logical Operators. These operators are used to figure out the logics, say AND, OR, NOR, XOR etc.\n\na = True\nb = False",
      "metadata": {},
      "outputs": [],
      "execution_count": null
    },
    {
      "id": "cf314e2a-ae25-4bdc-a430-1fdc0585aa37",
      "cell_type": "code",
      "source": "# if one of them is false, the answer is thrown false.\na and b",
      "metadata": {},
      "outputs": [],
      "execution_count": null
    },
    {
      "id": "ee1ecf4e-f422-4665-aede-5117d56cd2ab",
      "cell_type": "code",
      "source": "# if one of them is true, then the answer is true.\na or b",
      "metadata": {},
      "outputs": [],
      "execution_count": null
    },
    {
      "id": "3249392d-ad87-49cc-9304-4e72b262a792",
      "cell_type": "code",
      "source": "not a",
      "metadata": {},
      "outputs": [],
      "execution_count": null
    },
    {
      "id": "b3200edc-114e-48ca-927f-8e6789281573",
      "cell_type": "code",
      "source": "# Assignment operators. These operators usually assigns the value to a variable and store it in a memory location. Once it is done, the changes take place in different memory location not same.\n\nx = 5",
      "metadata": {},
      "outputs": [],
      "execution_count": null
    },
    {
      "id": "97861925-922c-437e-9b5f-982b413a38db",
      "cell_type": "code",
      "source": "x += 3 #this is similar to x = x+3 (where x = 5 and we are adding 3)\nx",
      "metadata": {},
      "outputs": [],
      "execution_count": null
    },
    {
      "id": "cd3e78d6-574b-4952-88ef-789fa25438f6",
      "cell_type": "code",
      "source": "x -= 3\nx",
      "metadata": {},
      "outputs": [],
      "execution_count": null
    },
    {
      "id": "14577e7f-4e89-4b85-ad52-6a7ac169ecbf",
      "cell_type": "code",
      "source": "# Identity operators compares memory locations of objects.\n\na = [1, 2, 3]\nb = [1, 2, 3]\nc = a\n\nprint(a is b)  # False (different objects with the same content)\nprint(a is c)  # True (same object)\nprint(a is not b)  # True\n",
      "metadata": {},
      "outputs": [],
      "execution_count": null
    },
    {
      "id": "7bd2ec4d-78b1-4139-a8a8-d44290177972",
      "cell_type": "code",
      "source": "# Membership operators\n\nfruits = ['apple', 'banana', 'cherry']\nprint('apple' in fruits)  # True\nprint('grape' in fruits)  #False\nprint('grape' not in fruits)  # True",
      "metadata": {},
      "outputs": [],
      "execution_count": null
    },
    {
      "id": "34883bf0-570a-4f4e-a3c5-22df0686e7b2",
      "cell_type": "markdown",
      "source": "# Data Structures - List, Tuples, Dictionary and Set - Introductory for the Python for Data Science.",
      "metadata": {}
    },
    {
      "id": "2b2d2007-7ace-4912-861a-dcd044f28978",
      "cell_type": "markdown",
      "source": "# Python Data Structures for Beginners\n\n## 1. Lists\n\nLists are ordered, mutable collections that can contain elements of different types.\n\n### Key features:\n- Ordered (elements have a defined order)\n- Mutable (can be modified after creation)\n- Allow duplicate elements\n- Created using square brackets []",
      "metadata": {}
    },
    {
      "id": "999ba367-ded9-48c6-be88-ce934e4d18ee",
      "cell_type": "code",
      "source": "# Creating a list\nfruits = [\"apple\", \"banana\", \"cherry\"]\n\n# Accessing elements\nprint(fruits[0])",
      "metadata": {},
      "outputs": [],
      "execution_count": null
    },
    {
      "id": "d740b4a8-c299-412f-b19d-955fb5673158",
      "cell_type": "code",
      "source": "# Modifying elements\nfruits[1] = \"blueberry\"\nprint(fruits)",
      "metadata": {},
      "outputs": [],
      "execution_count": null
    },
    {
      "id": "76e00621-d943-4661-b758-34b04fc507fa",
      "cell_type": "markdown",
      "source": "### Common list methods:\n\n- `append()`: Add an element to the end of the list\n- `extend()`: Add all elements of another list to the current list\n- `insert()`: Insert an element at a given position\n- `remove()`: Remove the first occurrence of an element\n- `pop()`: Remove and return an element at a given position\n- `index()`: Return the index of the first occurrence of an element\n- `count()`: Return the number of occurrences of an element\n- `sort()`: Sort the list in ascending order\n- `reverse()`: Reverse the order of the list",
      "metadata": {}
    },
    {
      "id": "9ec91a62-1a0c-428f-8f0e-7927740e62ae",
      "cell_type": "code",
      "source": "# Adding elements\nfruits.append(\"date\")\nprint(fruits)",
      "metadata": {},
      "outputs": [],
      "execution_count": null
    },
    {
      "id": "1d648803-28f6-4f35-a0ec-5dd769f800a3",
      "cell_type": "code",
      "source": "# Removing elements\nfruits.remove(\"cherry\")\nprint(fruits)",
      "metadata": {},
      "outputs": [],
      "execution_count": null
    },
    {
      "id": "9aa0fb2f-d90f-4205-bd86-d295b1fca3ca",
      "cell_type": "code",
      "source": "# List slicing\nprint(fruits[1:3])",
      "metadata": {},
      "outputs": [],
      "execution_count": null
    },
    {
      "id": "be82b6c6-d626-4262-802a-6ee4f96430bd",
      "cell_type": "markdown",
      "source": "## 2. Tuples\n\nTuples are ordered, immutable collections that can contain elements of different types.\n\n### Key features:\n- Ordered (elements have a defined order)\n- Immutable (cannot be modified after creation)\n- Allow duplicate elements\n- Created using parentheses ()\n\n### Common tuple operations:\n- Indexing: Access elements using their index\n- Slicing: Get a range of elements\n- Concatenation: Combine two or more tuples\n- Repetition: Create a new tuple by repeating elements",
      "metadata": {}
    },
    {
      "id": "ead71593-edf9-4839-815e-69b8dd352341",
      "cell_type": "code",
      "source": "# Creating a tuple\ncoordinates = (10, 20)\n\n# Accessing elements\nprint(coordinates[0])  # Output: 10",
      "metadata": {},
      "outputs": [],
      "execution_count": null
    },
    {
      "id": "b6cb97a5-f024-47e6-bbc4-2956066db92b",
      "cell_type": "code",
      "source": "# Tuples are immutable, so this will raise an error:\n#coordinates[0] = 30  # TypeError: 'tuple' object does not support item assignment\n\n# Unpacking a tuple\nx, y = coordinates\nprint(f\"x: {x}, y: {y}\")  # Output: x: 10, y: 20",
      "metadata": {},
      "outputs": [],
      "execution_count": null
    },
    {
      "id": "7117248b-20f1-4ed7-b523-e119b06f5522",
      "cell_type": "code",
      "source": "# Tuple with mixed data types\nperson = (\"Alice\", 25, \"Engineer\")\nname, age, occupation = person\nprint(f\"{name} is {age} years old and works as an {occupation}\")",
      "metadata": {},
      "outputs": [],
      "execution_count": null
    },
    {
      "id": "c4551b7d-f438-47c2-a7ef-6d63917bb15e",
      "cell_type": "markdown",
      "source": "## 3. Dictionaries\n\nDictionaries are unordered collections of key-value pairs.\n\n### Key features:\n- Unordered (elements don't have a defined order)\n- Mutable (can be modified after creation)\n- Keys must be unique and immutable\n- Created using curly braces {} with key-value pairs\n\n### Common dictionary methods:\n- `get()`: Return the value for a key, with a default if the key is not found\n- `keys()`: Return a view of all keys in the dictionary\n- `values()`: Return a view of all values in the dictionary\n- `items()`: Return a view of all key-value pairs in the dictionary\n- `update()`: Update the dictionary with elements from another dictionary or iterable\n- `pop()`: Remove and return the value for a specified key\n- `clear()`: Remove all items from the dictionary",
      "metadata": {}
    },
    {
      "id": "94e31e39-133e-4483-9f3c-c12557ec15a1",
      "cell_type": "code",
      "source": "# Creating a dictionary\nperson = {\n    \"name\": \"John\",\n    \"age\": 30,\n    \"city\": \"New York\"\n}",
      "metadata": {},
      "outputs": [],
      "execution_count": null
    },
    {
      "id": "d9d29989-b69c-416f-9ec3-18b32c48fff1",
      "cell_type": "code",
      "source": "# Accessing values\nprint(person[\"name\"])  # Output: John",
      "metadata": {},
      "outputs": [],
      "execution_count": null
    },
    {
      "id": "bbbe7561-2ff3-45a4-b14a-3c690e103217",
      "cell_type": "code",
      "source": "# Modifying values\nperson[\"age\"] = 31\nprint(person)  # Output: {'name': 'John', 'age': 31, 'city': 'New York'}",
      "metadata": {},
      "outputs": [],
      "execution_count": null
    },
    {
      "id": "33251415-9059-4ac2-981f-47fc53dfef38",
      "cell_type": "code",
      "source": "# Adding new key-value pairs\nperson[\"occupation\"] = \"Engineer\"\nprint(person)  # Output: {'name': 'John', 'age': 31, 'city': 'New York', 'occupation': 'Engineer'}",
      "metadata": {},
      "outputs": [],
      "execution_count": null
    },
    {
      "id": "1a22115a-9144-405e-b3e8-9d7c50ee8b15",
      "cell_type": "code",
      "source": "# Removing key-value pairs\ndel person[\"city\"]\nprint(person)  # Output: {'name': 'John', 'age': 31, 'occupation': 'Engineer'}",
      "metadata": {},
      "outputs": [],
      "execution_count": null
    },
    {
      "id": "df95184a-71e0-4b2b-a6b2-5e7887b165f8",
      "cell_type": "code",
      "source": "# Checking if a key exists\nprint(\"name\" in person)  # Output: True",
      "metadata": {},
      "outputs": [],
      "execution_count": null
    },
    {
      "id": "ceddb3db-83c3-4a14-afc5-0771b4375966",
      "cell_type": "markdown",
      "source": "## 4. Sets\n\nSets are unordered collections of unique elements.\n\n### Key features:\n- Unordered (elements don't have a defined order)\n- Mutable (the set itself can be modified, but elements must be immutable)\n- No duplicate elements\n- Created using curly braces {} or the set() function\n\n### Common set methods:\n- `add()`: Add an element to the set\n- `remove()`: Remove a specified element from the set (raises an error if not found)\n- `discard()`: Remove a specified element from the set (does not raise an error if not found)\n- `pop()`: Remove and return an arbitrary element from the set\n- `clear()`: Remove all elements from the set\n- `union()`: Return a new set with elements from the set and others\n- `intersection()`: Return a new set with elements common to the set and others\n- `difference()`: Return a new set with elements in the set that are not in others\n- `symmetric_difference()`: Return a new set with elements in either the set or others but not both",
      "metadata": {}
    },
    {
      "id": "a1e893c0-c1db-48df-8b11-740251559873",
      "cell_type": "code",
      "source": "# Creating a set\nfruits = {\"apple\", \"banana\", \"cherry\"}",
      "metadata": {},
      "outputs": [],
      "execution_count": null
    },
    {
      "id": "3d9057af-075b-497b-8b0f-226100a1a9cc",
      "cell_type": "code",
      "source": "# Adding elements\nfruits.add(\"date\")\nprint(fruits)  # Output: {'cherry', 'apple', 'banana', 'date'} (order may vary)",
      "metadata": {},
      "outputs": [],
      "execution_count": null
    },
    {
      "id": "c57e5531-54fc-4f3a-ae96-d5dba518fc0d",
      "cell_type": "code",
      "source": "# Removing elements\nfruits.remove(\"banana\")\nprint(fruits)  # Output: {'cherry', 'apple', 'date'} (order may vary)",
      "metadata": {},
      "outputs": [],
      "execution_count": null
    },
    {
      "id": "62b010a6-21e0-4b71-8f8a-b1757bdc06eb",
      "cell_type": "code",
      "source": "# Set operations\nset1 = {1, 2, 3, 4, 5}\nset2 = {4, 5, 6, 7, 8}",
      "metadata": {},
      "outputs": [],
      "execution_count": null
    },
    {
      "id": "170cec83-3194-4392-b20f-4e2b2163cce8",
      "cell_type": "code",
      "source": "# Union\nprint(set1 | set2)  # Output: {1, 2, 3, 4, 5, 6, 7, 8}",
      "metadata": {},
      "outputs": [],
      "execution_count": null
    },
    {
      "id": "7eb0bebd-912f-4283-bd11-1ab8445fb255",
      "cell_type": "code",
      "source": "# Intersection\nprint(set1 & set2)  # Output: {4, 5}",
      "metadata": {},
      "outputs": [],
      "execution_count": null
    },
    {
      "id": "b6168f6e-cffd-44c8-97d3-539627a87197",
      "cell_type": "code",
      "source": "# Difference\nprint(set1 - set2)  # Output: {1, 2, 3}",
      "metadata": {},
      "outputs": [],
      "execution_count": null
    },
    {
      "id": "0b6928d8-902b-478b-8b12-ec68ddeaab12",
      "cell_type": "code",
      "source": "# Symmetric difference\nprint(set1 ^ set2)  # Output: {1, 2, 3, 6, 7, 8}",
      "metadata": {},
      "outputs": [],
      "execution_count": null
    },
    {
      "id": "83345302-6387-4a6f-a5dc-869d7c908818",
      "cell_type": "markdown",
      "source": "# Loops in Python\n#### Loops in Python are programming constructs that allow you to repeat a block of code multiple times. They're used to automate repetitive tasks and process collections of data efficiently. Instead of writing the same code over and over, you can use a loop to execute it repeatedly, either a fixed number of times or until a certain condition is met.\n\nThe two main types of loops in Python are:\n\n`1. For loops: Used to iterate over a sequence (like a list, tuple, or string) or other iterable objects.`\n\n`2. While loops: Execute a set of statements as long as a given condition is true.`",
      "metadata": {}
    },
    {
      "id": "5808de2f-100a-40d6-9b73-e286eeb151d6",
      "cell_type": "code",
      "source": "# For loop\nfor i in range(5):\n    print(i)",
      "metadata": {},
      "outputs": [],
      "execution_count": null
    },
    {
      "id": "ef853970-5e2c-43c1-979a-b272d7304660",
      "cell_type": "code",
      "source": "# While loop\ncount = 0\nwhile count < 5:\n    print(count)\n    count += 1",
      "metadata": {},
      "outputs": [],
      "execution_count": null
    },
    {
      "id": "8f7cb298-0455-4494-bfd3-ade12da49a30",
      "cell_type": "markdown",
      "source": "`Loops are essential in programming as they allow you to write more efficient and concise code, especially when dealing with large amounts of data or when you need to perform repetitive operations.`",
      "metadata": {}
    },
    {
      "id": "8aa538ab-003d-4826-8eaf-9b2c4305bd33",
      "cell_type": "code",
      "source": "# 1. For Loop\n# The for loop is used to iterate over a sequence (like a list, tuple, string) or other iterable objects.\n\nprint(\"1. For Loop:\")\nfruits = [\"apple\", \"banana\", \"cherry\"]\nfor fruit in fruits:\n    print(f\"I like {fruit}\")",
      "metadata": {},
      "outputs": [],
      "execution_count": null
    },
    {
      "id": "355af543-0dc1-4896-bf4a-0f52fbcb4a69",
      "cell_type": "code",
      "source": "# 2. For Loop with range()\n# range() function generates a sequence of numbers which we can iterate over.\n\nprint(\"\\n2. For Loop with range():\")\nfor i in range(5):  # 0 to 4\n    print(f\"Number: {i}\")",
      "metadata": {},
      "outputs": [],
      "execution_count": null
    },
    {
      "id": "387acbf2-dd66-4951-881b-41745f3dbfef",
      "cell_type": "code",
      "source": "# 3. While Loop\n# The while loop runs as long as a condition is true.\n\nprint(\"\\n3. While Loop:\")\ncount = 0\nwhile count < 5:\n    print(f\"Count is: {count}\")\n    count += 1",
      "metadata": {},
      "outputs": [],
      "execution_count": null
    },
    {
      "id": "6f7dfb9d-2d71-4edc-a6a8-b467c6a13002",
      "cell_type": "code",
      "source": "# 4. Nested Loops\n# You can put one loop inside another loop.\n\nprint(\"\\n4. Nested Loops:\")\nfor i in range(3):\n    for j in range(2):\n        print(f\"i: {i}, j: {j}\")",
      "metadata": {},
      "outputs": [],
      "execution_count": null
    },
    {
      "id": "e01ef23d-6c36-4172-b058-05c7a20204f2",
      "cell_type": "code",
      "source": "# 5. Loop with else\n# The else part is executed when the loop condition becomes false.\n\nprint(\"\\n5. Loop with else:\")\nfor i in range(3):\n    print(i)\nelse:\n    print(\"Loop finished!\")",
      "metadata": {},
      "outputs": [],
      "execution_count": null
    },
    {
      "id": "53fe5a21-da37-4bce-ae8f-fb0b4c002b77",
      "cell_type": "code",
      "source": "# 6. Break Statement\n# Break is used to exit a loop prematurely.\n\nprint(\"\\n6. Break Statement:\")\nfor i in range(5):\n    if i == 3:\n        break\n    print(i)",
      "metadata": {},
      "outputs": [],
      "execution_count": null
    },
    {
      "id": "d43f6b7b-6ce8-487a-a5a6-c271e8092693",
      "cell_type": "code",
      "source": "# 7. Continue Statement\n# Continue is used to skip the rest of the code inside a loop for the current iteration.\n\nprint(\"\\n7. Continue Statement:\")\nfor i in range(5):\n    if i == 2:\n        continue\n    print(i)",
      "metadata": {
        "trusted": true
      },
      "outputs": [],
      "execution_count": null
    },
    {
      "id": "89b957d7-19e2-48f0-8e5f-33923a0579b5",
      "cell_type": "code",
      "source": "# 8. List Comprehension\n# A concise way to create lists based on existing lists.\n\nprint(\"\\n8. List Comprehension:\")\nsquares = [x**2 for x in range(5)]\nprint(squares)",
      "metadata": {},
      "outputs": [],
      "execution_count": null
    },
    {
      "id": "30656ad4-a399-41a4-a001-09b25a93161a",
      "cell_type": "markdown",
      "source": "# List Comprehension\n## List comprehension is like a shortcut for creating lists in Python. Instead of writing out a full loop to create a list, you can use a compact one-line expression. It's especially useful when you want to create a new list by transforming or filtering elements from another list or range.\n### Basic Syntax:\n```new_list = [expression for item in iterable if condition]```\n\nLet's break this down:\n- `expression` is what you want to put into the new list.\n- `for item in iterable` is like a regular for loop, specifying where to get the items from.\n- `if condition` is optional. If you include it, only items that meet the condition will be added to the new list.\n",
      "metadata": {}
    },
    {
      "id": "88056754-22f7-4a9f-be33-4e7f2878ca74",
      "cell_type": "code",
      "source": "# Example 0: Creating a list of stripped integers\n# Without list comprehension\n\nsalary = ['19M', '56M', '23M', '8M']\nnew_salary = []\nfor i in salary:\n    new_salary.append(int(i.rstrip('M')))\nprint(new_salary)",
      "metadata": {},
      "outputs": [],
      "execution_count": null
    },
    {
      "id": "9310b176-3d58-4dde-aa05-03898f187c7f",
      "cell_type": "code",
      "source": "# With list comprehension\n\nnew_sal = [int(i.rstrip('M')) for i in salary]\nnew_sal",
      "metadata": {},
      "outputs": [],
      "execution_count": null
    },
    {
      "id": "60c845ce-3418-480c-b800-fbb0ca3b8e50",
      "cell_type": "code",
      "source": "# Example 1: Creating a list of squares\n# Without list comprehension\n\nsquares = []\nfor i in range(1, 6):\n    squares.append(i ** 2)\nprint(\"Squares without list comprehension:\", squares)",
      "metadata": {},
      "outputs": [],
      "execution_count": null
    },
    {
      "id": "221f39f1-d4a8-4876-bd36-90d43b854ee9",
      "cell_type": "code",
      "source": "# With list comprehension\n\nsquares_lc = [i ** 2 for i in range(1, 6)]\nprint(\"Squares with list comprehension:\", squares_lc)",
      "metadata": {},
      "outputs": [],
      "execution_count": null
    },
    {
      "id": "765889ec-8310-4957-a198-d5e1007d92f7",
      "cell_type": "code",
      "source": "# Example 2: Filtering even numbers\nnumbers = [1, 2, 3, 4, 5, 6, 7, 8, 9, 10]\n\n# Without list comprehension\n\neven_numbers = []\nfor num in numbers:\n    if num % 2 == 0:\n        even_numbers.append(num)\nprint(\"Even numbers without list comprehension:\", even_numbers)",
      "metadata": {},
      "outputs": [],
      "execution_count": null
    },
    {
      "id": "7f2d5d76-133f-4cbc-9067-583e60063a23",
      "cell_type": "code",
      "source": "# With list comprehension\n\neven_numbers_lc = [num for num in numbers if num % 2 == 0]\nprint(\"Even numbers with list comprehension:\", even_numbers_lc)",
      "metadata": {},
      "outputs": [],
      "execution_count": null
    },
    {
      "id": "921eadd1-b453-439f-bd15-2028d7cb82b9",
      "cell_type": "code",
      "source": "# Example 3: Creating a list of uppercase fruit names\nfruits = ['apple', 'banana', 'cherry', 'date']\n\n# Without list comprehension\n\nuppercase_fruits = []\nfor fruit in fruits:\n    uppercase_fruits.append(fruit.upper())\nprint(\"Uppercase fruits without list comprehension:\", uppercase_fruits)",
      "metadata": {},
      "outputs": [],
      "execution_count": null
    },
    {
      "id": "804eeaac-aa3f-4607-9a5f-3078b309ebf4",
      "cell_type": "code",
      "source": "# With list comprehension\n\nuppercase_fruits_lc = [fruit.upper() for fruit in fruits]\nprint(\"Uppercase fruits with list comprehension:\", uppercase_fruits_lc)",
      "metadata": {},
      "outputs": [],
      "execution_count": null
    },
    {
      "id": "f1401983-f4df-46f1-89c1-245dcbbcd279",
      "cell_type": "code",
      "source": "# Example 4: Creating a list of tuples (number, square) for even numbers\n# Without list comprehension\n\nnumber_squares = []\nfor i in range(1, 11):\n    if i % 2 == 0:\n        number_squares.append((i, i**2))\nprint(\"Number-square tuples without list comprehension:\", number_squares)",
      "metadata": {},
      "outputs": [],
      "execution_count": null
    },
    {
      "id": "ee0d1b90-4180-45bf-9b40-20a959867e8d",
      "cell_type": "code",
      "source": "# With list comprehension\nnumber_squares_lc = [(i, i**2) for i in range(1, 11) if i % 2 == 0]\nprint(\"Number-square tuples with list comprehension:\", number_squares_lc)",
      "metadata": {},
      "outputs": [],
      "execution_count": null
    },
    {
      "id": "010bc740-e6e6-4045-bc92-e4356a10a3ae",
      "cell_type": "markdown",
      "source": "## Functions in Python\n### A function is a block of organized, reusable code that is used to perform a single, related action. Functions provide better modularity for your application and a high degree of code reusability.\n#### Defining a Function\n\n#### In Python, you define a function using the `def` keyword, followed by the function name and parentheses `()`.\n\n**Syntax:**\n```python\ndef function_name(parameters):\n    \"\"\"docstring\"\"\"\n    # Function body\n    return value\n```\n\n- `def`: The keyword to define a function.\n- `function_name`: A unique identifier for the function.\n- `parameters`: Optional. A comma-separated list of arguments passed to the function.\n- `docstring`: Optional. A string describing the function’s purpose.\n- `return`: Optional. Specifies the value to be returned by the function.",
      "metadata": {}
    },
    {
      "id": "f7e1db74-09cd-4a2c-afbf-8eec369b2e76",
      "cell_type": "code",
      "source": "# Example 1: A Simple Function\n\n# This function takes no arguments and prints a greeting message.\n\ndef greet():\n    \"\"\"This function prints a greeting message.\"\"\"\n    print(\"Hello, welcome to Python programming!\")",
      "metadata": {},
      "outputs": [],
      "execution_count": null
    },
    {
      "id": "87510331-8c4f-424a-b1e4-58c958500117",
      "cell_type": "code",
      "source": "# Calling the function\ngreet()",
      "metadata": {},
      "outputs": [],
      "execution_count": null
    },
    {
      "id": "39388894-dea8-46c9-8cef-d63cde0d3c96",
      "cell_type": "code",
      "source": "# Example 2: Function with Parameters\n\n# This function takes two parameters, `a` and `b`, and returns their sum.\n\ndef add(a, b):\n    \"\"\"This function returns the sum of two numbers.\"\"\"\n    return a + b",
      "metadata": {},
      "outputs": [],
      "execution_count": null
    },
    {
      "id": "ce973631-630c-42e0-8868-b510e00660c3",
      "cell_type": "code",
      "source": "result = add(5, 3)\nprint(f\"The sum is: {result}\")",
      "metadata": {},
      "outputs": [],
      "execution_count": null
    },
    {
      "id": "f3641cd2-d7e7-45a1-957b-a2c36887f6b6",
      "cell_type": "code",
      "source": "# Example 3: Function with Default Parameters\n\n# This function demonstrates default parameter values. If no value is provided for `b`, it defaults to 1.\n\ndef multiply(a, b=1):\n    \"\"\"This function multiplies two numbers, with a default value for the second parameter.\"\"\"\n    return a * b",
      "metadata": {},
      "outputs": [],
      "execution_count": null
    },
    {
      "id": "abf2b5ec-5d34-4bc8-86f3-52a7944bdf3e",
      "cell_type": "code",
      "source": "# Calling the function with both arguments\nresult1 = multiply(5, 2)\nprint(f\"Multiplication result (5, 2): {result1}\")",
      "metadata": {},
      "outputs": [],
      "execution_count": null
    },
    {
      "id": "1e18a800-5cc0-4d7f-a38d-aca2f0a401ad",
      "cell_type": "code",
      "source": "# Calling the function with only one argument\nresult2 = multiply(5)\nprint(f\"Multiplication result (5, default): {result2}\")",
      "metadata": {},
      "outputs": [],
      "execution_count": null
    },
    {
      "id": "2b2b9a8b-ef8c-4f7a-b38b-0461963fcdd6",
      "cell_type": "code",
      "source": "# Example 4: Function with Return Statement\n\n# This function takes a string, removes leading and trailing whitespace, and converts it to uppercase.\n\ndef clean_and_uppercase(text):\n    \"\"\"This function strips whitespace from a string and converts it to uppercase.\"\"\"\n    cleaned_text = text.strip()\n    uppercase_text = cleaned_text.upper()\n    return uppercase_text",
      "metadata": {},
      "outputs": [],
      "execution_count": null
    },
    {
      "id": "63d7f91c-93c1-49b5-b31b-cbdba7b31b0a",
      "cell_type": "code",
      "source": "# Calling the function\nprocessed_text = clean_and_uppercase(\"  hello world  \")\nprint(f\"Processed text: '{processed_text}'\")",
      "metadata": {},
      "outputs": [],
      "execution_count": null
    },
    {
      "id": "d26393b2-8867-4bfb-886f-5c6f42944540",
      "cell_type": "code",
      "source": "# Example 5: Function with Variable-Length Arguments\n\n# Sometimes, you may need a function to accept more arguments than you specified. These arguments are called variable-length arguments.\n\ndef print_all(*args):\n    \"\"\"This function prints all the arguments passed to it.\"\"\"\n    for arg in args:\n        print(arg)",
      "metadata": {},
      "outputs": [],
      "execution_count": null
    },
    {
      "id": "737d0d9c-f037-4c3c-a3de-f483e7de1ac5",
      "cell_type": "code",
      "source": "# Calling the function\nprint_all(\"Hello\", \"world\", \"this\", \"is\", \"Python\")",
      "metadata": {},
      "outputs": [],
      "execution_count": null
    },
    {
      "id": "2d011a56-2580-4d3d-a4b6-a8e4153f39cc",
      "cell_type": "code",
      "source": "# Example 6: Lambda Functions\n\n# Python supports the creation of anonymous functions (i.e., functions that are not bound to a name) using the `lambda` keyword.\n\n# Lambda function to add two numbers\nadd = lambda x, y: x + y\n\n# Calling the lambda function\nresult = add(4, 3)\nprint(f\"Sum using lambda: {result}\")",
      "metadata": {},
      "outputs": [],
      "execution_count": null
    },
    {
      "id": "627b1a29-baf4-4a9e-8f7e-a2afc831af58",
      "cell_type": "markdown",
      "source": "#### F-strings, also known as \"formatted string literals\", are a feature in Python 3.6 and later versions that provide a concise and readable way to embed expressions inside string literals. F-strings allow you to include the value of variables, expressions, or other Python objects directly within a string, without the need for explicit string concatenation or the format() method.\n`1. Syntax: An f-string is defined by placing the letter f or F immediately before the opening quote of a string literal, like this: f'This is an f-string' or F\"This is also an f-string\".`\n\n`2. Embedding Expressions: Within an f-string, you can include expressions by enclosing them in curly braces {}. The expression can be a variable, a function call, a calculation, or any valid Python expression. The expression will be evaluated, and its result will be inserted into the string.`\n\n`3. Formatting Options: F-strings support various formatting options, similar to the format() method. You can use the same syntax as in the format() method, such as alignment, padding, and type conversion specifiers.`\n\n`4. Multiline F-strings: F-strings can also be used with multiline strings, allowing you to embed expressions across multiple lines.`\n\n#### F-strings offer several benefits over traditional string formatting methods, such as:\n\n`Improved readability: F-strings make it easier to read and understand the code, as the expression being inserted is directly visible within the string.`\n\n`Reduced verbosity: F-strings often require less code than using the format() method or string concatenation.`\n\n`Dynamic expressions: F-strings allow you to include dynamic expressions, which can be evaluated at runtime, making them more flexible than static string formatting.`\n\n`Type conversion: F-strings automatically handle type conversion, so you don't need to worry about converting values to strings explicitly.`\n\n",
      "metadata": {}
    }
  ]
}